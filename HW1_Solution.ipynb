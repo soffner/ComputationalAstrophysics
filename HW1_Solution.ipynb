{
 "cells": [
  {
   "cell_type": "markdown",
   "metadata": {},
   "source": [
    "#  HW 1\n",
    "\n",
    "Note: Need to check 2b, 3a\n"
   ]
  },
  {
   "cell_type": "code",
   "execution_count": 1,
   "metadata": {},
   "outputs": [],
   "source": [
    "import matplotlib.pyplot as plt\n",
    "import numpy as np\n",
    "from scipy.integrate import quad"
   ]
  },
  {
   "cell_type": "markdown",
   "metadata": {},
   "source": [
    "# 1. Floating away\n",
    "1a. (Z ex1.1)  In your choice of programming language, create a floating point variable and initialize it to 0.1. Now, print it out in full precision (you may need to use format specifiers in your language to get all significant digits the computer tracks). \n",
    "\n",
    "You should see that it is not exactly 0.1 to the computer—this is the floating point error. The number 0.1 is not exactly representable in the binary format used for floating point. What is the degree of floating point error you find? How does this floating point error change if you declare you variable as ``single precision\" versus ``double precision\"?"
   ]
  },
  {
   "cell_type": "code",
   "execution_count": 2,
   "metadata": {},
   "outputs": [
    {
     "name": "stdout",
     "output_type": "stream",
     "text": [
      "0.100000\n",
      "0.1000000000000000055511\n",
      "0.100000\n",
      "0.1000000014901161193848\n"
     ]
    }
   ],
   "source": [
    "a=0.1 \n",
    "print('{:f}'.format(a))\n",
    "print('{:24.22f}'.format(a))\n",
    "\n",
    "b = np.float32(0.1)\n",
    "print('{:f}'.format(b))\n",
    "print('{:24.22f}'.format(b))\n",
    "\n"
   ]
  },
  {
   "cell_type": "markdown",
   "metadata": {},
   "source": [
    "Most Python systems map floating points to double precision, so even though a is techincally a float it is \n",
    "stored as a double. However, the default format prints only 6 digits.\n",
    "\n",
    "You can force a float to be single precision by using np.float32(). The degree of precision appears to be to the 8th and 17th decimal place respectively.\n",
    "\n",
    "See https://docs.python.org/3/tutorial/floatingpoint.html"
   ]
  },
  {
   "cell_type": "markdown",
   "metadata": {},
   "source": [
    "1b. (Z ex1.2) Using the method you sketched out in class, determine the roundoff error $\\epsilon$ for your machine."
   ]
  },
  {
   "cell_type": "code",
   "execution_count": 3,
   "metadata": {},
   "outputs": [
    {
     "name": "stdout",
     "output_type": "stream",
     "text": [
      "1.0000000000000008881784\n",
      "50 8.881784197001252e-16\n",
      "1.0000000000000004440892\n",
      "51 4.440892098500626e-16\n",
      "1.0000000000000002220446\n",
      "52 2.220446049250313e-16\n",
      "1.0000000000000000000000\n",
      "53 1.1102230246251565e-16\n",
      "1.0000000000000000000000\n",
      "54 5.551115123125783e-17\n",
      "1.0000000000000000000000\n",
      "55 2.7755575615628914e-17\n",
      "1.0000000000000000000000\n",
      "56 1.3877787807814457e-17\n",
      "1.0000000000000000000000\n",
      "57 6.938893903907228e-18\n",
      "1.0000000000000000000000\n",
      "58 3.469446951953614e-18\n",
      "1.0000000000000000000000\n",
      "59 1.734723475976807e-18\n"
     ]
    }
   ],
   "source": [
    "a = 1.0\n",
    "eps = 1.0\n",
    "for i in range(1,60):\n",
    "    eps=eps/2.0\n",
    "    if i >= 50:\n",
    "        print('{:24.22f}'.format(a+eps))\n",
    "        print(i, eps)\n",
    "    "
   ]
  },
  {
   "cell_type": "markdown",
   "metadata": {},
   "source": [
    "Looks like the roundoff error occurs at i=53 when epsilon = 1.1102230246251565e-16.\n",
    "So you really need to be adding numbers with huge discrepancy in power together before it becomes a problem. But this can happen in hydrodynamic problems (e.g., small source terms). We call the equations \"stiff\".\n",
    "\n",
    "\n",
    "If you compared with the results of your classmates you likely found the floating point errors to be the same, which is because of the specific number of bits that a single and double precision number is assigned by definition. The round off errors may vary slightly however. This results suggests that fundmentally calculations may not be deterministic, that is, if you run the same calculation/operation on different machines you will get a slightly different result."
   ]
  },
  {
   "cell_type": "markdown",
   "metadata": {},
   "source": [
    "# 2. Integral Processes\n",
    "\n",
    "\n",
    "a. Here we will numerically calculate the following integral:\n",
    "\n",
    "$\\int_1^5 \\frac{1}{x^{3/2}} dx$\n",
    "\n",
    "The exact value of the integral is:\n",
    "\n",
    "$-2{x^{-1/2}}|_1^5 = -2/\\sqrt{5}+2$\n",
    "\n",
    "One of the simplest methods for integration as we discussed in class uses the Rectangle Rule:"
   ]
  },
  {
   "cell_type": "code",
   "execution_count": 5,
   "metadata": {},
   "outputs": [
    {
     "name": "stderr",
     "output_type": "stream",
     "text": [
      "/Users/so8266/anaconda3/lib/python3.7/site-packages/ipykernel_launcher.py:12: DeprecationWarning: object of type <class 'float'> cannot be safely interpreted as an integer.\n",
      "  if sys.path[0] == '':\n"
     ]
    },
    {
     "name": "stdout",
     "output_type": "stream",
     "text": [
      "Trapezoidal Error 1e-3, Nsteps= 1649.0 0.000999570047871561\n",
      "Trapezoidal Error 1e-5, Nsteps= 164723.0 9.999965889439023e-06\n"
     ]
    },
    {
     "data": {
      "image/png": "[encoded data removed]",
      "text/plain": [
       "<Figure size 432x288 with 1 Axes>"
      ]
     },
     "metadata": {
      "needs_background": "light"
     },
     "output_type": "display_data"
    },
    {
     "name": "stdout",
     "output_type": "stream",
     "text": [
      "slope (should be first order = -1), offset: [-1.00024597  0.5018574 ]\n"
     ]
    }
   ],
   "source": [
    "# Rectangle Rule\n",
    "\n",
    "# Function to be integrated\n",
    "def function(x):\n",
    "    return x**(-3./2.)\n",
    "\n",
    "\n",
    "# Rectangle Integral\n",
    "# Super-fast - we use minimal floating point ops + explolit Python efficiencies\n",
    "def rect(func, lo, hi, Nstep):\n",
    "    dx = (hi-lo)/Nstep\n",
    "    points = func(np.linspace(a,a+(N-1)*dx,N))\n",
    "    return dx*np.sum(points)\n",
    "\n",
    "# Integral limits\n",
    "a = 1.0\n",
    "b = 5.0\n",
    "\n",
    "# Define variables\n",
    "frac_error = 100\n",
    "min_error = 1e-5\n",
    "N = 10. # Initial step number\n",
    "\n",
    "analytic = -2/np.sqrt(5)+2\n",
    "\n",
    "# Store errors\n",
    "liststeps_rec = []\n",
    "listerrors_rec = []\n",
    "\n",
    "dx = 0.0\n",
    "while frac_error > min_error:\n",
    "    \n",
    "    total = rect(function, a, b, N)\n",
    "       \n",
    "    frac_error = np.abs(total-analytic)/analytic\n",
    "    liststeps_rec.append(N)  #This operation adds a nontrivial amount of time!\n",
    "    listerrors_rec.append(frac_error)\n",
    "    N = N+1\n",
    "\n",
    "idx1_rec = np.argmax(np.array(listerrors_rec) < 1e-3)    #index of first instance where the fractional error < 1e-3\n",
    "idx2_rec = np.argmax(np.array(listerrors_rec) < 1e-5)    #index of first instance where the fractional error < 1e-5\n",
    "\n",
    "print(\"Trapezoidal Error 1e-3, Nsteps=\",liststeps_rec[idx1_rec], listerrors_rec[idx1_rec])\n",
    "print(\"Trapezoidal Error 1e-5, Nsteps=\",liststeps_rec[idx2_rec], listerrors_rec[idx2_rec])\n",
    "    \n",
    "# Plot fractional error:\n",
    "fw = 2\n",
    "tsz = 12\n",
    "fig, ax = plt.subplots(edgecolor='black')\n",
    "\n",
    "ax.loglog(liststeps_rec, listerrors_rec, lw=3)\n",
    "ax.set_xlabel(\"Number of Steps\", size=tsz, fontweight='bold')\n",
    "ax.set_ylabel(\"Fractional Error\", size=tsz, fontweight='bold')\n",
    "\n",
    "plt.show()\n",
    "\n",
    "# Check the rate of convergence:\n",
    "coeff = np.polyfit(np.log(liststeps_rec), np.log(listerrors_rec), 1)\n",
    "print(\"slope (should be first order = -1), offset:\", coeff) "
   ]
  },
  {
   "cell_type": "markdown",
   "metadata": {},
   "source": [
    "Based on the above the fractional error <1e-3 when N>1649. The fractional error <1e-5 when N>164723.\n",
    "\n",
    "Note that using the superfast approach for integrating, we can compute the integral 164,700 times in only a few minutes."
   ]
  },
  {
   "cell_type": "markdown",
   "metadata": {},
   "source": [
    "2b. Another slightly more sophisticated approach uses the Trapezoidal Rule:"
   ]
  },
  {
   "cell_type": "code",
   "execution_count": 6,
   "metadata": {},
   "outputs": [
    {
     "name": "stdout",
     "output_type": "stream",
     "text": [
      "Analytic result =  1.1055728090000843\n",
      "Trapezoidal Error 1e-3, Nsteps= 43 0.0009596466149766364\n",
      "Trapezoidal Error 1e-5, Nsteps= 422 9.976374240630175e-06\n"
     ]
    },
    {
     "data": {
      "image/png": "[encoded data removed]",
      "text/plain": [
       "<Figure size 432x288 with 1 Axes>"
      ]
     },
     "metadata": {
      "needs_background": "light"
     },
     "output_type": "display_data"
    },
    {
     "name": "stdout",
     "output_type": "stream",
     "text": [
      "slope (should be 2nd order = -2), offset: [-1.99830336  0.56544889]\n"
     ]
    }
   ],
   "source": [
    "# Trapezoid Rule\n",
    "\n",
    "# Define variables\n",
    "frac_error = 100\n",
    "min_error = 1e-5\n",
    "\n",
    "N = 10\n",
    "a = 1.0\n",
    "b = 5.0\n",
    "\n",
    "analytic = -2/np.sqrt(5)+2\n",
    "\n",
    "# Function to be integrated\n",
    "def function(x):\n",
    "    return x**(-3./2.)\n",
    "\n",
    "# Trapezoid Integral\n",
    "# Super-fast - we only evaluate the points once + explolit Python efficiencies\n",
    "def trap(func, lo, hi, Nstep):\n",
    "    dx = (hi-lo)/(2*Nstep)\n",
    "    points = func(np.linspace(lo,hi,Nstep+1))  #Super-fast - we only evaluate the points once\n",
    "    return dx*np.sum(points[0:-1]+points[1:])\n",
    "\n",
    "\n",
    "# Trapezoid Integral\n",
    "# Much slower 'for loop' way (similar to C approach) -- although still evaluate points once\n",
    "def trapslow(func, lo, hi, Nstep):\n",
    "    total = 0.0\n",
    "    dx = (hi-lo)/(2*Nstep)\n",
    "    steps = np.linspace(lo,hi,Nstep+1) \n",
    "    lo = function(a)\n",
    "    for i,step in enumerate(steps[:-1]):\n",
    "        hi = function(steps[i+1])\n",
    "        total += (lo+hi)*dx\n",
    "        lo = hi\n",
    "    return total\n",
    "\n",
    "liststeps_trap = []\n",
    "listerrors_trap = []\n",
    "\n",
    "while frac_error > min_error:\n",
    "\n",
    "    # Fast optimal python way\n",
    "    total = trap(function, a, b, N)\n",
    "    \n",
    "    # Slow way:\n",
    "    #total = trapslow(function, a, b, N) \n",
    "        \n",
    "    frac_error = np.abs(total-analytic)/analytic\n",
    "    liststeps_trap.append(N)  #This operation adds a nontrivial amount of time!\n",
    "    listerrors_trap.append(frac_error)\n",
    "    N = N+1\n",
    "\n",
    "print(\"Analytic result = \", analytic)\n",
    "\n",
    "idx1_trap = np.argmax(np.array(listerrors_trap) < 1e-3)    #index of first instance where the fractional error < 1e-3\n",
    "idx2_trap = np.argmax(np.array(listerrors_trap) < 1e-5)    #index of first instance where the fractional error < 1e-5\n",
    "\n",
    "print(\"Trapezoidal Error 1e-3, Nsteps=\",liststeps_trap[idx1_trap], listerrors_trap[idx1_trap])\n",
    "print(\"Trapezoidal Error 1e-5, Nsteps=\",liststeps_trap[idx2_trap], listerrors_trap[idx2_trap])\n",
    "\n",
    "\n",
    "# Plot fractional error:\n",
    "fw = 2\n",
    "tsz = 12\n",
    "fig, ax = plt.subplots(edgecolor='black')\n",
    "\n",
    "ax.loglog(liststeps_trap, listerrors_trap, lw=3, label='Trapezoid')\n",
    "ax.loglog(liststeps_rec, listerrors_rec, lw=3, label='Rectangle')\n",
    "ax.legend()\n",
    "\n",
    "ax.set_xlabel(\"Number of Steps\", size=tsz, fontweight='bold')\n",
    "ax.set_ylabel(\"Fractional Error\", size=tsz, fontweight='bold')\n",
    "\n",
    "plt.show()\n",
    "\n",
    "# Check the rate of convergence:\n",
    "coeff = np.polyfit(np.log(liststeps_trap), np.log(listerrors_trap), 1)\n",
    "print(\"slope (should be 2nd order = -2), offset:\", coeff) \n"
   ]
  },
  {
   "cell_type": "markdown",
   "metadata": {},
   "source": [
    "The trapezoidal rule requires only 43 steps to get down to 1e-3 accuracy and 422 to get down to 1e-5.\n",
    "\n",
    "Looking at the slope of the convergence gives the order of accuracy, which is indeed -2."
   ]
  },
  {
   "cell_type": "markdown",
   "metadata": {},
   "source": [
    "We see there is a huge advantage to using a more accurate method, even if that approach uses slightly more floating point operations. Here, the Trapezoid approach has one more floating point operation, which should make it 30% slower. However, because its accuracy is higher, it completes the calculation in orders of magnitude fewer steps, which translates into a signficant time savings when a high accuracy result is required."
   ]
  },
  {
   "cell_type": "markdown",
   "metadata": {},
   "source": [
    "2b. Compare the results of your two integration routines from (c) to a built-in function in your programming language . "
   ]
  },
  {
   "cell_type": "code",
   "execution_count": 7,
   "metadata": {},
   "outputs": [
    {
     "name": "stdout",
     "output_type": "stream",
     "text": [
      "Analytic result =  21.9606797749979\n",
      "Fractional Error =  1.6177612511090134e-16 2.438125232262267e-13\n"
     ]
    }
   ],
   "source": [
    "from scipy.integrate import quad #Uses Gaussian quadrature based on Fortran library technqiue\n",
    "\n",
    "a = 1.0\n",
    "b = 5.0\n",
    "analytic = 2.0/5.0*(b**(5./2.0) - a**(5.0/2.0))\n",
    "def integrand(x):\n",
    "    return x**(3.0/2.0)\n",
    "\n",
    "total, uncertainty = quad(integrand, a, b)\n",
    "print(\"Analytic result = \", analytic)\n",
    "print(\"Fractional Error = \", np.abs(total-analytic)/analytic, uncertainty)\n"
   ]
  },
  {
   "cell_type": "markdown",
   "metadata": {},
   "source": [
    "The default method of intergration 'quad' is pretty accurate and fast. The scipy quad function uses QUADPACK, which is a FORTRAN77 library that estimates integrals using numerical quadrature. In this approach, some degree of allowed error ('tolerance') is an input rather than an a priori stepsize, N. The function recursively divides the integral range until the specified minimum error is acheived. It is also fast because Fortran is generally much faster than Python (or C).\n",
    "\n",
    "To be pedantic, the python quad method calls the 'qags' FORTRAN77 routine for a finite integral, which uses adaptive 21-point Gauss–Kronrod quadrature within each subinterval (see https://en.wikipedia.org/wiki/Gauss–Kronrod_quadrature_formula, https://en.wikipedia.org/wiki/QUADPACK). Adaptive quadrature makes an approximation of the integral from a to b and estimates the error. If this error is larger than some tolerance (which you can set), the integral is divided into two integrals (from a to some value m, and m to b) where both halves are integrated seperately. Either the initial estimate or the sum of the recursively computed halves is returned. I note the fractional error I estimate for the result is actually better than that reported by the function itself (it uses a numerical rather than analytic estimate). In order for our methods to obtain the above accuracy a lot of steps are needed! \n",
    "\n",
    "Other integration options are trapezoid ('trapz'), which you can show is 2nd order, and  Simpson's rule ('simps')m which is 4th order.\n",
    "\n",
    "Specifically, the fractional error for the rectangle rule is linear in a log-log plot. Therefore, if ~ a few 1e2 steps are needed to get 1e-5 then to obtain uncertainties of better than 1e-13, then 1e13 steps are needed.\n",
    "\n",
    "The fractional error for the trapexoidal rule is quadratic in a log-log plot. Therefore, if ~1e5 steps are needed to get 1e-5 then to obtain uncertainties of better than 1e-13, then a few 1e6 steps are needed.\n",
    "\n",
    "Looking through scipy documentation for integration finds a variety of other approaches you might use (including the Python version of the trapazoidal rule, trapz)."
   ]
  },
  {
   "cell_type": "markdown",
   "metadata": {},
   "source": [
    "# 3. Shooting for the stars."
   ]
  },
  {
   "cell_type": "markdown",
   "metadata": {},
   "source": [
    "3a. Write a standalone program to compute the orbit of the Earth around the Sun using one of the integration methods you implemented above (follow Z ex 1.8). This program can be used to compute the orbits of different solar system bodies or modified to be applied to other stellar systems."
   ]
  },
  {
   "cell_type": "markdown",
   "metadata": {},
   "source": [
    "Note Z1.8 specifies using first order Euler, but this is just what we call the rectangle rule.\n",
    "However, we can't use our rectangle function directly because we have a coupled\n",
    "system of ODEs:\n",
    "\n",
    "$\\dot x = v$\n",
    "\n",
    "$\\dot v = - \\frac{GM r}{r^3}$\n",
    "\n",
    "Consequently, first, we have to update the x,y velocity then x,y position."
   ]
  },
  {
   "cell_type": "code",
   "execution_count": 8,
   "metadata": {},
   "outputs": [
    {
     "data": {
      "text/plain": [
       "<Figure size 432x288 with 0 Axes>"
      ]
     },
     "execution_count": 8,
     "metadata": {},
     "output_type": "execute_result"
    },
    {
     "data": {
      "image/png": "[encoded data removed]",
      "text/plain": [
       "<Figure size 432x288 with 1 Axes>"
      ]
     },
     "metadata": {
      "needs_background": "light"
     },
     "output_type": "display_data"
    },
    {
     "data": {
      "text/plain": [
       "<Figure size 432x288 with 0 Axes>"
      ]
     },
     "metadata": {},
     "output_type": "display_data"
    }
   ],
   "source": [
    "# Integrate Earth Orbit\n",
    "\n",
    "# Use AU, yrs, msun units\n",
    "GM = 4 * np.pi**2\n",
    "\n",
    "# System parameters\n",
    "a = 1.0   # semi-major axis\n",
    "e = 0.01671 # eccentricity\n",
    "\n",
    "# Initial position, velocities\n",
    "x0 = 0\n",
    "y0 = a*(1-e)\n",
    "vx0 = - np.sqrt(GM/a*(1+e)/(1-e))\n",
    "vy0 = 0\n",
    "\n",
    "# Resolution parameters\n",
    "orbits = 1.0 # Number of orbits to evolve (in years)\n",
    "N = 1000     # Step number per orbit\n",
    "dt = orbits/N # Timestep (in years)\n",
    "\n",
    "x = [x0]\n",
    "y = [y0]\n",
    "vx = [vx0]\n",
    "vy = [vy0]\n",
    "\n",
    "# Calculate acceleration\n",
    "def acc(x,y):\n",
    "    const = -GM/(x**2+y**2)**(3.0/2.0)\n",
    "    return x*const, y*const\n",
    "\n",
    "for i in range(N):\n",
    "    # Get accelerations\n",
    "    dvx, dvy  = acc(x[i], y[i])\n",
    "\n",
    "    # Update velocities\n",
    "    vx.append(vx[i]+dvx*dt)\n",
    "    vy.append(vy[i]+dvy*dt)\n",
    "    \n",
    "    # Update positions\n",
    "    x.append(x[i]+vx[i+1]*dt)\n",
    "    y.append(y[i]+vy[i+1]*dt)\n",
    "    \n",
    "\n",
    "plt.figure()\n",
    "plt.title('Orbit')\n",
    "plt.plot(x,y)\n",
    "plt.xlabel('x (AU)')\n",
    "plt.ylabel('y (AU)')\n",
    "plt.figure()    \n"
   ]
  },
  {
   "cell_type": "markdown",
   "metadata": {},
   "source": [
    "3b. Write a standalone program that computes the integral for the co-moving distance.\n",
    "\n",
    "$D_c = \\int_0^z dz' [\\Omega_m (1+z')^3 + (1. - \\Omega_m - \\Omega_\\Lambda)(1+z')^2 + \\Omega_\\Lambda]^{-1/2}$"
   ]
  },
  {
   "cell_type": "code",
   "execution_count": 9,
   "metadata": {},
   "outputs": [
    {
     "name": "stdout",
     "output_type": "stream",
     "text": [
      "Integral = 1.2094713025569486\n",
      "Comoving distance to z = 2 is:  5183.4484395297795 Mpc\n"
     ]
    },
    {
     "name": "stderr",
     "output_type": "stream",
     "text": [
      "/Users/so8266/anaconda3/lib/python3.7/site-packages/ipykernel_launcher.py:21: DeprecationWarning: object of type <class 'float'> cannot be safely interpreted as an integer.\n"
     ]
    }
   ],
   "source": [
    "# Here we'll just use our rectangle rule\n",
    "\n",
    "# Define variables\n",
    "N = 1000.0\n",
    "z0 = 0.0 # redshift z = 0\n",
    "zf = 2.0 # z = 2\n",
    "h = 0.7 # Hubble constant\n",
    "\n",
    "# Here we define our function for D_c\n",
    "def function(x):\n",
    "    omm = 0.3 # Omega Matter\n",
    "    oml = 0.7 # Omega Lambda\n",
    "    return 1.0/(omm*(1+x)**3 + (1 - omm - oml)*(1+x)**2 + oml)**0.5\n",
    "\n",
    "total = trap(function, z0, zf, N)\n",
    "\n",
    "print(\"Integral =\", total)\n",
    "print(\"Comoving distance to z = 2 is: \", total*3000/h, \"Mpc\")\n"
   ]
  },
  {
   "cell_type": "markdown",
   "metadata": {},
   "source": [
    "So what exactly is the comoving distance? A small comoving distance $\\delta D_c$ between two nearby objects in the Universe is the distance between them that remains constant with epoch if the two objects are moving with the Hubble flow. In other words, it is the distance between them that would be measured with rulers at the time they are being observed (the proper distance) divided by the ratio of the scale factor of the Universe then to now. So, it is the proper distance multiplied by $(1 + z)$. The total line-of-sight comoving distance $D_c$ from us to a distant object is computed by integrating the infinitesimal $\\delta D_c$ contributions between nearby events along the radial ray from $z = 0$ to the object."
   ]
  },
  {
   "cell_type": "code",
   "execution_count": 10,
   "metadata": {},
   "outputs": [
    {
     "name": "stderr",
     "output_type": "stream",
     "text": [
      "/Users/so8266/anaconda3/lib/python3.7/site-packages/ipykernel_launcher.py:21: DeprecationWarning: object of type <class 'float'> cannot be safely interpreted as an integer.\n"
     ]
    },
    {
     "data": {
      "text/plain": [
       "<Figure size 432x288 with 0 Axes>"
      ]
     },
     "execution_count": 10,
     "metadata": {},
     "output_type": "execute_result"
    },
    {
     "data": {
      "image/png": "[encoded data removed]",
      "text/plain": [
       "<Figure size 432x288 with 1 Axes>"
      ]
     },
     "metadata": {
      "needs_background": "light"
     },
     "output_type": "display_data"
    },
    {
     "data": {
      "text/plain": [
       "<Figure size 432x288 with 0 Axes>"
      ]
     },
     "metadata": {},
     "output_type": "display_data"
    }
   ],
   "source": [
    "# Make a plot as a function of z:\n",
    "\n",
    "omegam = 0.3\n",
    "omegalam = 0.7\n",
    "Nsteps = 1000\n",
    "h=0.7\n",
    "\n",
    "z0 = 0.0\n",
    "redshifts = np.linspace(z0, 10, 100)\n",
    "comoving = []\n",
    "\n",
    "# Here we define our function for D_c\n",
    "def function(x):\n",
    "    omm = 0.3 # Omega Matter\n",
    "    oml = 0.7 # Omega Lambda\n",
    "    return 1.0/(omm*(1+x)**3 + (1 - omm - oml)*(1+x)**2 + oml)**0.5\n",
    "\n",
    "for zmax in redshifts:\n",
    "    comoving.append(trap(function, z0, zmax, N))\n",
    "    \n",
    "\n",
    "plt.figure()\n",
    "plt.title('Comoving Distance vs. Redshift')\n",
    "plt.plot(redshifts, np.array(comoving)*3000/h)\n",
    "plt.xlabel('Redshift z')\n",
    "plt.ylabel('Comoving Distance (Mpc)')\n",
    "plt.figure()"
   ]
  },
  {
   "cell_type": "code",
   "execution_count": null,
   "metadata": {},
   "outputs": [],
   "source": []
  }
 ],
 "metadata": {
  "kernelspec": {
   "display_name": "Python 3",
   "language": "python",
   "name": "python3"
  },
  "language_info": {
   "codemirror_mode": {
    "name": "ipython",
    "version": 3
   },
   "file_extension": ".py",
   "mimetype": "text/x-python",
   "name": "python",
   "nbconvert_exporter": "python",
   "pygments_lexer": "ipython3",
   "version": "3.7.3"
  }
 },
 "nbformat": 4,
 "nbformat_minor": 2
}
